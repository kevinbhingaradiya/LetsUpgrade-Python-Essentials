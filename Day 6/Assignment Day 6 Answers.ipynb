{
 "cells": [
  {
   "cell_type": "markdown",
   "metadata": {},
   "source": [
    "# Assignment Day 6 Answers (Python Essentials | Batch 7)"
   ]
  },
  {
   "cell_type": "markdown",
   "metadata": {},
   "source": [
    "# Name : Kevinkumar Bhingaradiya\n",
    "Email Id : bhingaradiya82980@gmail.com"
   ]
  },
  {
   "cell_type": "markdown",
   "metadata": {},
   "source": [
    "# Question 1\n",
    "For this challenge,create a bank account class that has two attributes\n",
    "\n",
    "*ownerName*                                                                                                                      \n",
    "*Balance*\n",
    "\n",
    "And two methods\n",
    "\n",
    "*deposit*\n",
    "\n",
    "*withdraw*\n",
    "\n",
    "As an added requirement,withdrawals may not exceed the available balance.Instantiate your class,make several deposits and withdrawals,and test to make sure the account cant be overdrawn."
   ]
  },
  {
   "cell_type": "code",
   "execution_count": 5,
   "metadata": {},
   "outputs": [
    {
     "name": "stdout",
     "output_type": "stream",
     "text": [
      "Hello!!! Welcome to the Deposit & Withdrawal Machine \n",
      "Enter amount to be Deposited: 1500\n",
      "Amount Deposited: 1500.0\n",
      "Enter amount to be Withdrawn: 1500\n",
      "\n",
      " You Withdrew: 1500.0\n",
      "\n",
      " Net Available Balance= 0.0\n"
     ]
    }
   ],
   "source": [
    "class Bank_Account: \n",
    "    def __init__(self): \n",
    "        self.balance=0\n",
    "        print(\"Hello!!! Welcome to the Deposit & Withdrawal Machine \") \n",
    "\n",
    "    def deposit(self): \n",
    "        amount=float(input(\"Enter amount to be Deposited: \")) \n",
    "        self.balance += amount \n",
    "        print(\"Amount Deposited:\",amount) \n",
    "\n",
    "    def withdraw(self): \n",
    "        amount = float(input(\"Enter amount to be Withdrawn: \")) \n",
    "        if self.balance>=amount: \n",
    "            self.balance-=amount \n",
    "            print(\"\\n You Withdrew:\", amount) \n",
    "        else: \n",
    "            print(\"\\n Insufficient balance \") \n",
    "\n",
    "    def display(self): \n",
    "        print(\"\\n Net Available Balance=\",self.balance) \n",
    "s = Bank_Account() \n",
    "s.deposit() \n",
    "s.withdraw() \n",
    "s.display() \n"
   ]
  },
  {
   "cell_type": "markdown",
   "metadata": {},
   "source": [
    "# Question 2\n",
    "For this challenge,create a cone class that has two attributes:\n",
    "\n",
    "R=Radius\n",
    "\n",
    "h=Height\n",
    "\n",
    "And two methods:\n",
    "\n",
    "Volume = Π * r2 = (h/3)\n",
    "\n",
    "Surface area : base : Π * r2 , side : Π * r * √(r2 + h2)\n",
    "\n",
    "Make only one class with functions,as in where required import Math."
   ]
  },
  {
   "cell_type": "code",
   "execution_count": 8,
   "metadata": {},
   "outputs": [
    {
     "name": "stdout",
     "output_type": "stream",
     "text": [
      "Enter the Radius: 10\n",
      "Enter the Height: 25\n",
      "Enter Slant Height: 30\n",
      "Volume Of Cone :  2617.993877991494\n",
      "Surface Area Of Cone :  1256.6370614359173\n"
     ]
    }
   ],
   "source": [
    "import math \n",
    "pi = math.pi \n",
    "\n",
    "def volume(r, h): \n",
    "    return (1 / 3) * pi * r * r * h \n",
    "\n",
    "def surfacearea(r, s): \n",
    "    return pi * r * s + pi * r * r \n",
    "\n",
    "radius = float(input(\"Enter the Radius: \")) \n",
    "height = float(input(\"Enter the Height: \")) \n",
    "slant_height = float(input(\"Enter Slant Height: \")) \n",
    "\n",
    "print( \"Volume Of Cone : \", volume(radius, height) ) \n",
    "print( \"Surface Area Of Cone : \", surfacearea(radius, slant_height) ) "
   ]
  },
  {
   "cell_type": "code",
   "execution_count": null,
   "metadata": {},
   "outputs": [],
   "source": []
  }
 ],
 "metadata": {
  "kernelspec": {
   "display_name": "Python 3",
   "language": "python",
   "name": "python3"
  },
  "language_info": {
   "codemirror_mode": {
    "name": "ipython",
    "version": 3
   },
   "file_extension": ".py",
   "mimetype": "text/x-python",
   "name": "python",
   "nbconvert_exporter": "python",
   "pygments_lexer": "ipython3",
   "version": "3.8.3"
  }
 },
 "nbformat": 4,
 "nbformat_minor": 4
}
